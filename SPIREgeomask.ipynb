{
 "cells": [
  {
   "cell_type": "code",
   "execution_count": 14,
   "outputs": [
    {
     "name": "stdout",
     "output_type": "stream",
     "text": [
      "Requirement already satisfied: cartopy in c:\\users\\filip\\anaconda3\\lib\\site-packages (0.24.1)\n",
      "Requirement already satisfied: numpy>=1.23 in c:\\users\\filip\\anaconda3\\lib\\site-packages (from cartopy) (1.24.3)\n",
      "Requirement already satisfied: matplotlib>=3.6 in c:\\users\\filip\\anaconda3\\lib\\site-packages (from cartopy) (3.7.2)\n",
      "Requirement already satisfied: shapely>=1.8 in c:\\users\\filip\\anaconda3\\lib\\site-packages (from cartopy) (2.0.6)\n",
      "Requirement already satisfied: packaging>=21 in c:\\users\\filip\\anaconda3\\lib\\site-packages (from cartopy) (23.1)\n",
      "Requirement already satisfied: pyshp>=2.3 in c:\\users\\filip\\anaconda3\\lib\\site-packages (from cartopy) (2.3.1)\n",
      "Requirement already satisfied: pyproj>=3.3.1 in c:\\users\\filip\\anaconda3\\lib\\site-packages (from cartopy) (3.7.0)\n",
      "Requirement already satisfied: contourpy>=1.0.1 in c:\\users\\filip\\anaconda3\\lib\\site-packages (from matplotlib>=3.6->cartopy) (1.0.5)\n",
      "Requirement already satisfied: cycler>=0.10 in c:\\users\\filip\\anaconda3\\lib\\site-packages (from matplotlib>=3.6->cartopy) (0.11.0)\n",
      "Requirement already satisfied: fonttools>=4.22.0 in c:\\users\\filip\\anaconda3\\lib\\site-packages (from matplotlib>=3.6->cartopy) (4.25.0)\n",
      "Requirement already satisfied: kiwisolver>=1.0.1 in c:\\users\\filip\\anaconda3\\lib\\site-packages (from matplotlib>=3.6->cartopy) (1.4.4)\n",
      "Requirement already satisfied: pillow>=6.2.0 in c:\\users\\filip\\anaconda3\\lib\\site-packages (from matplotlib>=3.6->cartopy) (9.4.0)\n",
      "Requirement already satisfied: pyparsing<3.1,>=2.3.1 in c:\\users\\filip\\appdata\\roaming\\python\\python311\\site-packages (from matplotlib>=3.6->cartopy) (3.0.9)\n",
      "Requirement already satisfied: python-dateutil>=2.7 in c:\\users\\filip\\anaconda3\\lib\\site-packages (from matplotlib>=3.6->cartopy) (2.8.2)\n",
      "Requirement already satisfied: certifi in c:\\users\\filip\\appdata\\roaming\\python\\python311\\site-packages (from pyproj>=3.3.1->cartopy) (2022.12.7)\n",
      "Requirement already satisfied: six>=1.5 in c:\\users\\filip\\anaconda3\\lib\\site-packages (from python-dateutil>=2.7->matplotlib>=3.6->cartopy) (1.16.0)\n",
      "Requirement already satisfied: matplotlib in c:\\users\\filip\\anaconda3\\lib\\site-packages (3.7.2)\n",
      "Requirement already satisfied: contourpy>=1.0.1 in c:\\users\\filip\\anaconda3\\lib\\site-packages (from matplotlib) (1.0.5)\n",
      "Requirement already satisfied: cycler>=0.10 in c:\\users\\filip\\anaconda3\\lib\\site-packages (from matplotlib) (0.11.0)\n",
      "Requirement already satisfied: fonttools>=4.22.0 in c:\\users\\filip\\anaconda3\\lib\\site-packages (from matplotlib) (4.25.0)\n",
      "Requirement already satisfied: kiwisolver>=1.0.1 in c:\\users\\filip\\anaconda3\\lib\\site-packages (from matplotlib) (1.4.4)\n",
      "Requirement already satisfied: numpy>=1.20 in c:\\users\\filip\\anaconda3\\lib\\site-packages (from matplotlib) (1.24.3)\n",
      "Requirement already satisfied: packaging>=20.0 in c:\\users\\filip\\anaconda3\\lib\\site-packages (from matplotlib) (23.1)\n",
      "Requirement already satisfied: pillow>=6.2.0 in c:\\users\\filip\\anaconda3\\lib\\site-packages (from matplotlib) (9.4.0)\n",
      "Requirement already satisfied: pyparsing<3.1,>=2.3.1 in c:\\users\\filip\\appdata\\roaming\\python\\python311\\site-packages (from matplotlib) (3.0.9)\n",
      "Requirement already satisfied: python-dateutil>=2.7 in c:\\users\\filip\\anaconda3\\lib\\site-packages (from matplotlib) (2.8.2)\n",
      "Requirement already satisfied: six>=1.5 in c:\\users\\filip\\anaconda3\\lib\\site-packages (from python-dateutil>=2.7->matplotlib) (1.16.0)\n",
      "Requirement already satisfied: geopandas in c:\\users\\filip\\anaconda3\\lib\\site-packages (1.0.1)\n",
      "Requirement already satisfied: numpy>=1.22 in c:\\users\\filip\\anaconda3\\lib\\site-packages (from geopandas) (1.24.3)\n",
      "Requirement already satisfied: pyogrio>=0.7.2 in c:\\users\\filip\\anaconda3\\lib\\site-packages (from geopandas) (0.10.0)\n",
      "Requirement already satisfied: packaging in c:\\users\\filip\\anaconda3\\lib\\site-packages (from geopandas) (23.1)\n",
      "Requirement already satisfied: pandas>=1.4.0 in c:\\users\\filip\\anaconda3\\lib\\site-packages (from geopandas) (2.0.3)\n",
      "Requirement already satisfied: pyproj>=3.3.0 in c:\\users\\filip\\anaconda3\\lib\\site-packages (from geopandas) (3.7.0)\n",
      "Requirement already satisfied: shapely>=2.0.0 in c:\\users\\filip\\anaconda3\\lib\\site-packages (from geopandas) (2.0.6)\n",
      "Requirement already satisfied: python-dateutil>=2.8.2 in c:\\users\\filip\\anaconda3\\lib\\site-packages (from pandas>=1.4.0->geopandas) (2.8.2)\n",
      "Requirement already satisfied: pytz>=2020.1 in c:\\users\\filip\\anaconda3\\lib\\site-packages (from pandas>=1.4.0->geopandas) (2023.3.post1)\n",
      "Requirement already satisfied: tzdata>=2022.1 in c:\\users\\filip\\anaconda3\\lib\\site-packages (from pandas>=1.4.0->geopandas) (2023.3)\n",
      "Requirement already satisfied: certifi in c:\\users\\filip\\appdata\\roaming\\python\\python311\\site-packages (from pyogrio>=0.7.2->geopandas) (2022.12.7)\n",
      "Requirement already satisfied: six>=1.5 in c:\\users\\filip\\anaconda3\\lib\\site-packages (from python-dateutil>=2.8.2->pandas>=1.4.0->geopandas) (1.16.0)\n",
      "Requirement already satisfied: contextily in c:\\users\\filip\\anaconda3\\lib\\site-packages (1.6.2)\n",
      "Requirement already satisfied: geopy in c:\\users\\filip\\anaconda3\\lib\\site-packages (from contextily) (2.4.1)\n",
      "Requirement already satisfied: matplotlib in c:\\users\\filip\\anaconda3\\lib\\site-packages (from contextily) (3.7.2)\n",
      "Requirement already satisfied: mercantile in c:\\users\\filip\\anaconda3\\lib\\site-packages (from contextily) (1.2.1)\n",
      "Requirement already satisfied: pillow in c:\\users\\filip\\anaconda3\\lib\\site-packages (from contextily) (9.4.0)\n",
      "Requirement already satisfied: rasterio in c:\\users\\filip\\anaconda3\\lib\\site-packages (from contextily) (1.4.3)\n",
      "Requirement already satisfied: requests in c:\\users\\filip\\appdata\\roaming\\python\\python311\\site-packages (from contextily) (2.28.2)\n",
      "Requirement already satisfied: joblib in c:\\users\\filip\\anaconda3\\lib\\site-packages (from contextily) (1.2.0)\n",
      "Requirement already satisfied: xyzservices in c:\\users\\filip\\anaconda3\\lib\\site-packages (from contextily) (2022.9.0)\n",
      "Requirement already satisfied: geographiclib<3,>=1.52 in c:\\users\\filip\\anaconda3\\lib\\site-packages (from geopy->contextily) (2.0)\n",
      "Requirement already satisfied: contourpy>=1.0.1 in c:\\users\\filip\\anaconda3\\lib\\site-packages (from matplotlib->contextily) (1.0.5)\n",
      "Requirement already satisfied: cycler>=0.10 in c:\\users\\filip\\anaconda3\\lib\\site-packages (from matplotlib->contextily) (0.11.0)\n",
      "Requirement already satisfied: fonttools>=4.22.0 in c:\\users\\filip\\anaconda3\\lib\\site-packages (from matplotlib->contextily) (4.25.0)\n",
      "Requirement already satisfied: kiwisolver>=1.0.1 in c:\\users\\filip\\anaconda3\\lib\\site-packages (from matplotlib->contextily) (1.4.4)\n",
      "Requirement already satisfied: numpy>=1.20 in c:\\users\\filip\\anaconda3\\lib\\site-packages (from matplotlib->contextily) (1.24.3)\n",
      "Requirement already satisfied: packaging>=20.0 in c:\\users\\filip\\anaconda3\\lib\\site-packages (from matplotlib->contextily) (23.1)\n",
      "Requirement already satisfied: pyparsing<3.1,>=2.3.1 in c:\\users\\filip\\appdata\\roaming\\python\\python311\\site-packages (from matplotlib->contextily) (3.0.9)\n",
      "Requirement already satisfied: python-dateutil>=2.7 in c:\\users\\filip\\anaconda3\\lib\\site-packages (from matplotlib->contextily) (2.8.2)\n",
      "Requirement already satisfied: click>=3.0 in c:\\users\\filip\\anaconda3\\lib\\site-packages (from mercantile->contextily) (8.0.4)\n",
      "Requirement already satisfied: affine in c:\\users\\filip\\anaconda3\\lib\\site-packages (from rasterio->contextily) (2.4.0)\n",
      "Requirement already satisfied: attrs in c:\\users\\filip\\anaconda3\\lib\\site-packages (from rasterio->contextily) (24.3.0)\n",
      "Requirement already satisfied: certifi in c:\\users\\filip\\appdata\\roaming\\python\\python311\\site-packages (from rasterio->contextily) (2022.12.7)\n",
      "Requirement already satisfied: cligj>=0.5 in c:\\users\\filip\\anaconda3\\lib\\site-packages (from rasterio->contextily) (0.7.2)\n",
      "Requirement already satisfied: click-plugins in c:\\users\\filip\\anaconda3\\lib\\site-packages (from rasterio->contextily) (1.1.1)\n",
      "Requirement already satisfied: charset-normalizer<4,>=2 in c:\\users\\filip\\appdata\\roaming\\python\\python311\\site-packages (from requests->contextily) (3.1.0)\n",
      "Requirement already satisfied: idna<4,>=2.5 in c:\\users\\filip\\appdata\\roaming\\python\\python311\\site-packages (from requests->contextily) (3.4)\n",
      "Requirement already satisfied: urllib3<1.27,>=1.21.1 in c:\\users\\filip\\appdata\\roaming\\python\\python311\\site-packages (from requests->contextily) (1.26.15)\n",
      "Requirement already satisfied: colorama in c:\\users\\filip\\anaconda3\\lib\\site-packages (from click>=3.0->mercantile->contextily) (0.4.6)\n",
      "Requirement already satisfied: six>=1.5 in c:\\users\\filip\\anaconda3\\lib\\site-packages (from python-dateutil>=2.7->matplotlib->contextily) (1.16.0)\n"
     ]
    }
   ],
   "source": [
    "!pip install matplotlib"
   ],
   "metadata": {
    "collapsed": false,
    "ExecuteTime": {
     "end_time": "2024-12-29T19:59:04.482835200Z",
     "start_time": "2024-12-29T19:58:27.641415600Z"
    }
   }
  },
  {
   "cell_type": "markdown",
   "source": [
    "Firstly, we load the data"
   ],
   "metadata": {
    "collapsed": false
   }
  },
  {
   "cell_type": "code",
   "execution_count": 15,
   "outputs": [
    {
     "name": "stdout",
     "output_type": "stream",
     "text": [
      "  TweetID User   Latitude   Longitude     Timestamp  \\\n",
      "0      t0   u0  37.737840 -122.864991  1.735501e+09   \n",
      "1      t1   u0  37.737867 -122.865148  1.735501e+09   \n",
      "2      t2   u0  37.738150 -122.865172  1.735501e+09   \n",
      "3      t3   u0  37.737852 -122.864844  1.735501e+09   \n",
      "4      t4   u0  37.738076 -122.864980  1.735501e+09   \n",
      "\n",
      "                                  User_home  \\\n",
      "0  [37.73786839040233, -122.86498834096335]   \n",
      "1  [37.73786839040233, -122.86498834096335]   \n",
      "2  [37.73786839040233, -122.86498834096335]   \n",
      "3  [37.73786839040233, -122.86498834096335]   \n",
      "4  [37.73786839040233, -122.86498834096335]   \n",
      "\n",
      "                                  User_work  \n",
      "0  [37.69634301313497, -122.96783829112489]  \n",
      "1  [37.69634301313497, -122.96783829112489]  \n",
      "2  [37.69634301313497, -122.96783829112489]  \n",
      "3  [37.69634301313497, -122.96783829112489]  \n",
      "4  [37.69634301313497, -122.96783829112489]  \n"
     ]
    }
   ],
   "source": [
    "import pandas as pd\n",
    "\n",
    "# Load the dataset from the tweet.csv file\n",
    "file_path = 'tweets.csv'  \n",
    "tweets_df = pd.read_csv(file_path)\n",
    "print(tweets_df.head())\n"
   ],
   "metadata": {
    "collapsed": false,
    "ExecuteTime": {
     "end_time": "2024-12-29T19:59:04.529349Z",
     "start_time": "2024-12-29T19:59:04.480846100Z"
    }
   }
  },
  {
   "cell_type": "code",
   "execution_count": 16,
   "outputs": [
    {
     "data": {
      "text/plain": "<Figure size 1000x600 with 1 Axes>",
      "image/png": "[encoded data removed]"
     },
     "metadata": {},
     "output_type": "display_data"
    }
   ],
   "source": [
    "import matplotlib.pyplot as plt\n",
    "import geopandas as gpd\n",
    "from shapely.geometry import Point\n",
    "\n",
    "\n",
    "# Convert DataFrame to GeoDataFrame\n",
    "geometry = [Point(xy) for xy in zip(tweets_df['Longitude'], tweets_df['Latitude'])]\n",
    "gdf = gpd.GeoDataFrame(tweets_df, geometry=geometry, crs=\"EPSG:4326\")\n",
    "\n",
    "# Plot the data\n",
    "fig, ax = plt.subplots(figsize=(10, 6))\n",
    "gdf.plot(ax=ax, color='red', alpha=0.7, markersize=4)\n",
    "\n",
    "# Add labels and title\n",
    "plt.xlabel('Longitude')\n",
    "plt.ylabel('Latitude')\n",
    "plt.title('User Locations from Tweets', fontsize=16)\n",
    "\n",
    "plt.show()\n"
   ],
   "metadata": {
    "collapsed": false,
    "ExecuteTime": {
     "end_time": "2024-12-29T19:59:04.986322400Z",
     "start_time": "2024-12-29T19:59:04.527224500Z"
    }
   }
  },
  {
   "cell_type": "code",
   "execution_count": 16,
   "outputs": [],
   "source": [],
   "metadata": {
    "collapsed": false,
    "ExecuteTime": {
     "end_time": "2024-12-29T19:59:04.991660300Z",
     "start_time": "2024-12-29T19:59:04.986322400Z"
    }
   }
  }
 ],
 "metadata": {
  "kernelspec": {
   "display_name": "Python 3 (ipykernel)",
   "language": "python",
   "name": "python3"
  },
  "language_info": {
   "codemirror_mode": {
    "name": "ipython",
    "version": 3
   },
   "file_extension": ".py",
   "mimetype": "text/x-python",
   "name": "python",
   "nbconvert_exporter": "python",
   "pygments_lexer": "ipython3",
   "version": "3.12.4"
  }
 },
 "nbformat": 4,
 "nbformat_minor": 4
}
